{
  "nbformat": 4,
  "nbformat_minor": 0,
  "metadata": {
    "kernelspec": {
      "display_name": "Python 3",
      "language": "python",
      "name": "python3"
    },
    "language_info": {
      "codemirror_mode": {
        "name": "ipython",
        "version": 3
      },
      "file_extension": ".py",
      "mimetype": "text/x-python",
      "name": "python",
      "nbconvert_exporter": "python",
      "pygments_lexer": "ipython3",
      "version": "3.7.3"
    },
    "colab": {
      "name": "many_random_walk_ans.ipynb",
      "provenance": [],
      "collapsed_sections": []
    }
  },
  "cells": [
    {
      "cell_type": "code",
      "metadata": {
        "id": "q61ssXNXCRLc",
        "colab_type": "code",
        "colab": {}
      },
      "source": [
        "import numpy as np"
      ],
      "execution_count": 0,
      "outputs": []
    },
    {
      "cell_type": "markdown",
      "metadata": {
        "id": "-cQp72urCRL2",
        "colab_type": "text"
      },
      "source": [
        "# Матрица из нулей и единиц"
      ]
    },
    {
      "cell_type": "code",
      "metadata": {
        "id": "T5pivf8vCRL5",
        "colab_type": "code",
        "colab": {}
      },
      "source": [
        "def decorate_matrix(inputValue):\n",
        "    try:\n",
        "        inputValue = int(inputValue)\n",
        "    except:\n",
        "        return('input value should be integer')\n",
        "    if inputValue <= 0:\n",
        "        return('input value should be greater than 0')\n",
        "    elif inputValue == 1 or inputValue == 2:\n",
        "        return np.ones((inputValue,inputValue))\n",
        "    else:\n",
        "        ones = np.ones((inputValue,inputValue))\n",
        "        zeros = np.zeros((inputValue - 2, inputValue - 2))\n",
        "        ones[1:inputValue - 1, 1:inputValue - 1] =  zeros\n",
        "        return ones"
      ],
      "execution_count": 0,
      "outputs": []
    },
    {
      "cell_type": "code",
      "metadata": {
        "id": "N4EM7v77CRMP",
        "colab_type": "code",
        "colab": {
          "base_uri": "https://localhost:8080/",
          "height": 84
        },
        "outputId": "d21719da-6e84-4bfd-cc74-abe8510bf653"
      },
      "source": [
        "inputValue = input()\n",
        "print(decorate_matrix(inputValue))"
      ],
      "execution_count": 32,
      "outputs": [
        {
          "output_type": "stream",
          "text": [
            "3\n",
            "[[1. 1. 1.]\n",
            " [1. 0. 1.]\n",
            " [1. 1. 1.]]\n"
          ],
          "name": "stdout"
        }
      ]
    },
    {
      "cell_type": "markdown",
      "metadata": {
        "id": "KVF3CuZICRMq",
        "colab_type": "text"
      },
      "source": [
        "# Моделирование нескольких случайных блужданий за раз"
      ]
    },
    {
      "cell_type": "code",
      "metadata": {
        "id": "TNIV1MoRCRMr",
        "colab_type": "code",
        "colab": {}
      },
      "source": [
        "def random_walks(steps):\n",
        "    results = []\n",
        "    for step in steps:\n",
        "        results.append(np.cumsum(step))\n",
        "    return results"
      ],
      "execution_count": 0,
      "outputs": []
    },
    {
      "cell_type": "code",
      "metadata": {
        "id": "IOFbGkFGCRMw",
        "colab_type": "code",
        "colab": {}
      },
      "source": [
        "different_steps = []\n",
        "ways = 5000\n",
        "for _ in range(ways):\n",
        "    number = 1000\n",
        "    draws = np.random.randint(0, 2, size = number)\n",
        "    steps = np.where(draws > 0, 1, -1)\n",
        "    different_steps.append(steps)"
      ],
      "execution_count": 0,
      "outputs": []
    },
    {
      "cell_type": "code",
      "metadata": {
        "id": "0-38rxOoCRMz",
        "colab_type": "code",
        "colab": {}
      },
      "source": [
        "walks = random_walks(different_steps)"
      ],
      "execution_count": 0,
      "outputs": []
    },
    {
      "cell_type": "code",
      "metadata": {
        "id": "uhSHXutnCRM3",
        "colab_type": "code",
        "outputId": "e224adc5-6d91-45d5-ee70-d92e2f6281d7",
        "colab": {
          "base_uri": "https://localhost:8080/",
          "height": 67
        }
      },
      "source": [
        "print('Min along all the walks = {}'.format(np.min([np.min(walk) for walk in walks])))\n",
        "print('Max along all the walks = {}'.format(np.max([np.max(walk) for walk in walks])))\n",
        "print('Min time of getting 30 or 30 along all the walks = {}'.format(np.min([(np.abs(walk)>30).argmax() for walk in walks \\\n",
        "                                                      if (True in (np.abs(walk)>30))])))"
      ],
      "execution_count": 36,
      "outputs": [
        {
          "output_type": "stream",
          "text": [
            "Min along all the walks = -108\n",
            "Max along all the walks = 125\n",
            "Min time of getting 30 or 30 along all the walks = 62\n"
          ],
          "name": "stdout"
        }
      ]
    }
  ]
}